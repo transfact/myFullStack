{
 "cells": [
  {
   "cell_type": "markdown",
   "metadata": {},
   "source": [
    "## branch 협업시에\n",
    "\n",
    "1. git pull로 시작해라.\n",
    "2. main branch에서 git branch 이름\n",
    "3. branch이동 git checkout main\n",
    "4. main으로 이동 git merge 이름\n",
    "5. merge 완료, merge된 branch는 보통 다시 쓰지 않으므로 branch 삭제 git branch 이름"
   ]
  }
 ],
 "metadata": {
  "language_info": {
   "name": "python"
  },
  "orig_nbformat": 4
 },
 "nbformat": 4,
 "nbformat_minor": 2
}
