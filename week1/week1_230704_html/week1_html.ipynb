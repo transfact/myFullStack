{
 "cells": [
  {
   "attachments": {},
   "cell_type": "markdown",
   "metadata": {},
   "source": [
    "# HTML?\n",
    "---------------------------\n",
    "HTML : 집의 구조, HyperText markup language(마크다운과 다름)<br>\n",
    "태그를 이용해 구조화하는 언어<br>\n",
    "CSS : 인테리어\n",
    "JavaScript : 집의 기능\n",
    "\n",
    "# Tag\n",
    "\n",
    "여는태그 컨텐트 닫는태그 =>합쳐서 요소\n",
    "\n",
    "부모,자식 태그, 빈요소(빈태그)가 어떻게 생겼는지 집가서 확인하기.\n",
    "\n",
    "div, p같은 요소들을 block 요소(한줄을 차지한다.)\n",
    "\n",
    "u,b,em,i같은 태그들은 inline 요소(컨텐츠만큼 차지한다.wrap_content)\n",
    "\n",
    "파일경로 지정 규칙 상대경로와 절대경로... 알죠? --> ./~.jpg (상대)  C\\users\\gijin\\desktop\\fullstack\\week1_html\\~.jpg (절대)\n",
    "\n",
    "상대경로 규칙이란?  \n",
    ". : 현재 위치   \n",
    ".. : 상위 폴더 위치\n",
    "\n",
    "tag id는 고유해야함. 같은 id가 여러개면 안됨!(한개만 선택하게 됨)\n",
    "\n",
    "\n"
   ]
  }
 ],
 "metadata": {
  "language_info": {
   "name": "python"
  },
  "orig_nbformat": 4
 },
 "nbformat": 4,
 "nbformat_minor": 2
}
