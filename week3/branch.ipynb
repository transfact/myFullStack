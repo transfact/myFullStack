{
 "cells": [
  {
   "cell_type": "markdown",
   "metadata": {},
   "source": [
    "## branch 협업시에\n",
    "\n",
    "1. git pull로 시작해라.\n",
    "2. main branch에서 git branch -b\n",
    "3. branch이동 git checkout \n",
    "4. "
   ]
  }
 ],
 "metadata": {
  "language_info": {
   "name": "python"
  },
  "orig_nbformat": 4
 },
 "nbformat": 4,
 "nbformat_minor": 2
}
